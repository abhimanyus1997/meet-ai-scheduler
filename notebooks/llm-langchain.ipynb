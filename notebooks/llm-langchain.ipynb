{
 "cells": [
  {
   "cell_type": "markdown",
   "id": "2615199e",
   "metadata": {},
   "source": [
    "# Langchain - Gemini "
   ]
  },
  {
   "cell_type": "code",
   "execution_count": 4,
   "id": "625e4086",
   "metadata": {},
   "outputs": [],
   "source": [
    "import getpass\n",
    "import os\n",
    "from dotenv import load_dotenv\n",
    "\n",
    "load_dotenv(dotenv_path=\"../.env\")\n",
    "\n",
    "if \"GOOGLE_API_KEY\" not in os.environ:\n",
    "    # Use gemini key as google key\n",
    "    if \"GEMINI_API_KEY\" in os.environ:\n",
    "        os.environ[\"GOOGLE_API_KEY\"] = os.getenv(\"GEMINI_API_KEY\")\n",
    "    # if neither of gemini and google key\n",
    "    else:\n",
    "        os.environ[\"GOOGLE_API_KEY\"] = getpass.getpass(\n",
    "            \"Enter your Google AI API key: \")"
   ]
  },
  {
   "cell_type": "code",
   "execution_count": 6,
   "id": "809240f6",
   "metadata": {},
   "outputs": [],
   "source": [
    "from langchain_google_genai import ChatGoogleGenerativeAI\n",
    "\n",
    "llm = ChatGoogleGenerativeAI(\n",
    "    model=\"gemini-2.5-flash\",\n",
    "    temperature=0,\n",
    "    max_tokens=None,\n",
    "    timeout=None,\n",
    "    max_retries=2,\n",
    ")"
   ]
  },
  {
   "cell_type": "markdown",
   "id": "d31b5ad8",
   "metadata": {},
   "source": [
    "### Using ChatPromptTemplate"
   ]
  },
  {
   "cell_type": "code",
   "execution_count": 10,
   "id": "e442e0de",
   "metadata": {},
   "outputs": [],
   "source": [
    "from langchain_core.prompts import ChatPromptTemplate"
   ]
  },
  {
   "cell_type": "code",
   "execution_count": 11,
   "id": "2927b8e9",
   "metadata": {},
   "outputs": [],
   "source": [
    "\n",
    "system_prompt = \"\"\"\n",
    "You are a smart, voice-enabled AI scheduling assistant. Your job is to help the user schedule a meeting by understanding natural language requests, asking clarifying questions when needed, and proposing available time slots based on information from the user's Google Calendar.\n",
    "\n",
    "You MUST:\n",
    "- Ask clarifying questions if details like duration, date, or participants are missing.\n",
    "- Propose available meeting times using Google Calendar data.\n",
    "- Handle vague or ambiguous time descriptions like \"next Friday morning\" or \"sometime late next week.\"\n",
    "- If no time is available, suggest alternate times or days instead of giving up.\n",
    "- Confirm the final selection before scheduling.\n",
    "\n",
    "Respond conversationally and naturally, like a human assistant would.\n",
    "\"\"\""
   ]
  },
  {
   "cell_type": "code",
   "execution_count": 14,
   "id": "495968ca",
   "metadata": {},
   "outputs": [],
   "source": [
    "prompt = ChatPromptTemplate([\n",
    "    (\"system\", system_prompt),\n",
    "    (\"human\", \"{query}\"),\n",
    "    ])\n",
    "chain = prompt | llm"
   ]
  },
  {
   "cell_type": "code",
   "execution_count": 17,
   "id": "f587c41f",
   "metadata": {},
   "outputs": [
    {
     "name": "stdout",
     "output_type": "stream",
     "text": [
      "Okay, I can help with that!\n",
      "\n",
      "To get started, could you tell me:\n",
      "\n",
      "1.  **Who needs to be invited** to this meeting?\n",
      "2.  **What's the meeting about** (a brief title)?\n",
      "3.  **How long** do you expect it to be?\n"
     ]
    }
   ],
   "source": [
    "response = chain.invoke({\"query\": \"I need to schedule a meeting\"})\n",
    "print(response.content)"
   ]
  },
  {
   "cell_type": "code",
   "execution_count": 18,
   "id": "b653e58e",
   "metadata": {},
   "outputs": [
    {
     "data": {
      "text/plain": [
       "{'input_tokens': 154,\n",
       " 'output_tokens': 171,\n",
       " 'total_tokens': 325,\n",
       " 'input_token_details': {'cache_read': 0},\n",
       " 'output_token_details': {'reasoning': 106}}"
      ]
     },
     "execution_count": 18,
     "metadata": {},
     "output_type": "execute_result"
    }
   ],
   "source": [
    "response.usage_metadata"
   ]
  },
  {
   "cell_type": "code",
   "execution_count": 19,
   "id": "4a7082c9",
   "metadata": {},
   "outputs": [
    {
     "data": {
      "text/plain": [
       "{'prompt_feedback': {'block_reason': 0, 'safety_ratings': []},\n",
       " 'finish_reason': 'STOP',\n",
       " 'model_name': 'gemini-2.5-flash',\n",
       " 'safety_ratings': []}"
      ]
     },
     "execution_count": 19,
     "metadata": {},
     "output_type": "execute_result"
    }
   ],
   "source": [
    "response.response_metadata"
   ]
  },
  {
   "cell_type": "markdown",
   "id": "b027c934",
   "metadata": {},
   "source": [
    "### Tool Calling"
   ]
  },
  {
   "cell_type": "code",
   "execution_count": null,
   "id": "7431331f",
   "metadata": {},
   "outputs": [],
   "source": [
    "from langchain_core.tools import tool\n"
   ]
  }
 ],
 "metadata": {
  "kernelspec": {
   "display_name": "meet-ai-scheduler",
   "language": "python",
   "name": "python3"
  },
  "language_info": {
   "codemirror_mode": {
    "name": "ipython",
    "version": 3
   },
   "file_extension": ".py",
   "mimetype": "text/x-python",
   "name": "python",
   "nbconvert_exporter": "python",
   "pygments_lexer": "ipython3",
   "version": "3.11.11"
  }
 },
 "nbformat": 4,
 "nbformat_minor": 5
}

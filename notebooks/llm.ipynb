{
 "cells": [
  {
   "cell_type": "code",
   "execution_count": 1,
   "id": "2753aba7",
   "metadata": {},
   "outputs": [
    {
     "data": {
      "text/plain": [
       "True"
      ]
     },
     "execution_count": 1,
     "metadata": {},
     "output_type": "execute_result"
    }
   ],
   "source": [
    "import os\n",
    "from dotenv import load_dotenv\n",
    "load_dotenv(dotenv_path=\"../.env\")"
   ]
  },
  {
   "cell_type": "code",
   "execution_count": 2,
   "id": "db88518c",
   "metadata": {},
   "outputs": [],
   "source": [
    "os.environ[\"GEMINI_API_KEY\"] = os.getenv(\"GEMINI_API_KEY\")\n",
    "GEMINI_KEY = os.getenv(\"GEMINI_API_KEY\")"
   ]
  },
  {
   "cell_type": "markdown",
   "id": "76034ad1",
   "metadata": {},
   "source": [
    "## Using gemini 2.0 flash"
   ]
  },
  {
   "cell_type": "code",
   "execution_count": 3,
   "id": "1b888773",
   "metadata": {},
   "outputs": [
    {
     "name": "stdout",
     "output_type": "stream",
     "text": [
      "A canvas shell, a humble guise,\n",
      "Concealing wonders, in its size.\n",
      "A backpack plain, of faded blue,\n",
      "But secrets whispered, fresh and new.\n",
      "\n",
      "No ordinary straps it bore,\n",
      "But threads of starlight, and so much more.\n",
      "A buckle clasped of polished moon,\n",
      "That hummed a silent, silver tune.\n",
      "\n",
      "You reach inside, with hopeful hand,\n",
      "And pull forth treasures, from the land\n",
      "Of dreams and wishes, yet unknown,\n",
      "A world of magic, all your own.\n",
      "\n",
      "A feather light, that grants you flight,\n",
      "To soar above the day and night.\n",
      "A compass spun of purest gold,\n",
      "That guides you where the stories unfold.\n",
      "\n",
      "A vial small, of liquid light,\n",
      "To banish shadows, and make things bright.\n",
      "A book of spells, with pages thin,\n",
      "Where whispered words can let you win.\n",
      "\n",
      "A garden small, of blooming bloom,\n",
      "That chases away all trace of gloom.\n",
      "A map that shifts, with every glance,\n",
      "To lead you to a joyful dance.\n",
      "\n",
      "The backpack waits, with patient grace,\n",
      "To fill your life with time and space.\n",
      "A portal held, within its keep,\n",
      "Where wonders slumber, in their sleep.\n",
      "\n",
      "So shoulder it, and take a stride,\n",
      "With magic secrets deep inside.\n",
      "The world awaits, with open arms,\n",
      "Protected by the backpack's charms.\n",
      "\n"
     ]
    }
   ],
   "source": [
    "from llama_index.llms.google_genai import GoogleGenAI\n",
    "\n",
    "llm = GoogleGenAI(model=\"models/gemini-2.0-flash-lite\", api_key=GEMINI_KEY)\n",
    "resp = llm.complete(\"Write a poem about a magic backpack\")\n",
    "print(resp)"
   ]
  },
  {
   "cell_type": "markdown",
   "id": "39dc41c1",
   "metadata": {},
   "source": [
    "## Google Calender Tools"
   ]
  },
  {
   "cell_type": "code",
   "execution_count": null,
   "id": "61948f08",
   "metadata": {},
   "outputs": [],
   "source": [
    "# from llama_index.core.agent.workflow import FunctionAgent\n",
    "# tool_spec = GoogleCalendarToolSpec()\n",
    "# agent = FunctionAgent(llm=llm, tools=tool_spec.to_tool_list())"
   ]
  },
  {
   "cell_type": "code",
   "execution_count": null,
   "id": "28907b4d",
   "metadata": {},
   "outputs": [
    {
     "ename": "AttributeError",
     "evalue": "'ToolMetadata' object has no attribute 'json_schema'",
     "output_type": "error",
     "traceback": [
      "\u001b[31m---------------------------------------------------------------------------\u001b[39m",
      "\u001b[31mAttributeError\u001b[39m                            Traceback (most recent call last)",
      "\u001b[36mCell\u001b[39m\u001b[36m \u001b[39m\u001b[32mIn[13]\u001b[39m\u001b[32m, line 6\u001b[39m\n\u001b[32m      4\u001b[39m \u001b[38;5;66;03m# Patch function schema to make it Gemini-compatible\u001b[39;00m\n\u001b[32m      5\u001b[39m \u001b[38;5;28;01mfor\u001b[39;00m tool \u001b[38;5;129;01min\u001b[39;00m calendar_tool_spec.to_tool_list():\n\u001b[32m----> \u001b[39m\u001b[32m6\u001b[39m     schema = \u001b[43mtool\u001b[49m\u001b[43m.\u001b[49m\u001b[43mmetadata\u001b[49m\u001b[43m.\u001b[49m\u001b[43mjson_schema\u001b[49m\n\u001b[32m      7\u001b[39m     \u001b[38;5;28;01mif\u001b[39;00m \u001b[33m\"\u001b[39m\u001b[33mstart_datetime\u001b[39m\u001b[33m\"\u001b[39m \u001b[38;5;129;01min\u001b[39;00m schema[\u001b[33m\"\u001b[39m\u001b[33mparameters\u001b[39m\u001b[33m\"\u001b[39m][\u001b[33m\"\u001b[39m\u001b[33mproperties\u001b[39m\u001b[33m\"\u001b[39m]:\n\u001b[32m      8\u001b[39m         schema[\u001b[33m\"\u001b[39m\u001b[33mparameters\u001b[39m\u001b[33m\"\u001b[39m][\u001b[33m\"\u001b[39m\u001b[33mproperties\u001b[39m\u001b[33m\"\u001b[39m][\u001b[33m\"\u001b[39m\u001b[33mstart_datetime\u001b[39m\u001b[33m\"\u001b[39m][\u001b[33m\"\u001b[39m\u001b[33mformat\u001b[39m\u001b[33m\"\u001b[39m] = \u001b[33m\"\u001b[39m\u001b[33mdate-time\u001b[39m\u001b[33m\"\u001b[39m\n",
      "\u001b[31mAttributeError\u001b[39m: 'ToolMetadata' object has no attribute 'json_schema'"
     ]
    }
   ],
   "source": [
    "from llama_index.tools.google import GoogleCalendarToolSpec\n",
    "\n",
    "calendar_tool_spec = GoogleCalendarToolSpec()\n",
    "calendar_tools = calendar_tool_spec.to_tool_list()"
   ]
  },
  {
   "cell_type": "code",
   "execution_count": 9,
   "id": "41abdad8",
   "metadata": {},
   "outputs": [],
   "source": [
    "from llama_index.core.agent.workflow import FunctionAgent\n",
    "\n",
    "agent = FunctionAgent(\n",
    "    llm=llm,\n",
    "    tools=calendar_tools,\n",
    "    verbose=True\n",
    ")"
   ]
  },
  {
   "cell_type": "code",
   "execution_count": 12,
   "id": "629c9f79",
   "metadata": {},
   "outputs": [
    {
     "name": "stdout",
     "output_type": "stream",
     "text": [
      "Running step init_run\n",
      "Step init_run produced event AgentInput\n",
      "Running step setup_agent\n",
      "Step setup_agent produced event AgentSetup\n",
      "Running step run_agent_step\n"
     ]
    },
    {
     "ename": "WorkflowRuntimeError",
     "evalue": "Error in step 'run_agent_step': 400 Bad Request. {'message': '{\\n  \"error\": {\\n    \"code\": 400,\\n    \"message\": \"* GenerateContentRequest.tools[0].function_declarations[0].parameters.properties[start_date].any_of[1].format: only \\'enum\\' and \\'date-time\\' are supported for STRING type\\\\n\",\\n    \"status\": \"INVALID_ARGUMENT\"\\n  }\\n}\\n', 'status': 'Bad Request'}",
     "output_type": "error",
     "traceback": [
      "\u001b[31m---------------------------------------------------------------------------\u001b[39m",
      "\u001b[31mClientError\u001b[39m                               Traceback (most recent call last)",
      "\u001b[36mFile \u001b[39m\u001b[32mc:\\Users\\msi-1\\Documents\\python\\meet-ai-scheduler\\.venv\\Lib\\site-packages\\workflows\\context\\context.py:687\u001b[39m, in \u001b[36mContext._step_worker\u001b[39m\u001b[34m(self, name, step, config, stepwise, verbose, checkpoint_callback, run_id, service_manager, resource_manager)\u001b[39m\n\u001b[32m    686\u001b[39m \u001b[38;5;28;01mtry\u001b[39;00m:\n\u001b[32m--> \u001b[39m\u001b[32m687\u001b[39m     new_ev = \u001b[38;5;28;01mawait\u001b[39;00m instrumented_step(**kwargs)\n\u001b[32m    688\u001b[39m     kwargs.clear()\n",
      "\u001b[36mFile \u001b[39m\u001b[32mc:\\Users\\msi-1\\Documents\\python\\meet-ai-scheduler\\.venv\\Lib\\site-packages\\llama_index_instrumentation\\dispatcher.py:365\u001b[39m, in \u001b[36mDispatcher.span.<locals>.async_wrapper\u001b[39m\u001b[34m(func, instance, args, kwargs)\u001b[39m\n\u001b[32m    364\u001b[39m \u001b[38;5;28;01mtry\u001b[39;00m:\n\u001b[32m--> \u001b[39m\u001b[32m365\u001b[39m     result = \u001b[38;5;28;01mawait\u001b[39;00m func(*args, **kwargs)\n\u001b[32m    366\u001b[39m \u001b[38;5;28;01mexcept\u001b[39;00m \u001b[38;5;167;01mBaseException\u001b[39;00m \u001b[38;5;28;01mas\u001b[39;00m e:\n",
      "\u001b[36mFile \u001b[39m\u001b[32mc:\\Users\\msi-1\\Documents\\python\\meet-ai-scheduler\\.venv\\Lib\\site-packages\\llama_index\\core\\agent\\workflow\\base_agent.py:357\u001b[39m, in \u001b[36mBaseWorkflowAgent.run_agent_step\u001b[39m\u001b[34m(self, ctx, ev)\u001b[39m\n\u001b[32m    355\u001b[39m tools = \u001b[38;5;28;01mawait\u001b[39;00m \u001b[38;5;28mself\u001b[39m.get_tools(user_msg_str \u001b[38;5;129;01mor\u001b[39;00m \u001b[33m\"\u001b[39m\u001b[33m\"\u001b[39m)\n\u001b[32m--> \u001b[39m\u001b[32m357\u001b[39m agent_output = \u001b[38;5;28;01mawait\u001b[39;00m \u001b[38;5;28mself\u001b[39m.take_step(\n\u001b[32m    358\u001b[39m     ctx,\n\u001b[32m    359\u001b[39m     ev.input,\n\u001b[32m    360\u001b[39m     tools,\n\u001b[32m    361\u001b[39m     memory,\n\u001b[32m    362\u001b[39m )\n\u001b[32m    364\u001b[39m ctx.write_event_to_stream(agent_output)\n",
      "\u001b[36mFile \u001b[39m\u001b[32mc:\\Users\\msi-1\\Documents\\python\\meet-ai-scheduler\\.venv\\Lib\\site-packages\\llama_index\\core\\agent\\workflow\\function_agent.py:55\u001b[39m, in \u001b[36mFunctionAgent.take_step\u001b[39m\u001b[34m(self, ctx, llm_input, tools, memory)\u001b[39m\n\u001b[32m     54\u001b[39m last_chat_response = ChatResponse(message=ChatMessage())\n\u001b[32m---> \u001b[39m\u001b[32m55\u001b[39m \u001b[38;5;28;01masync\u001b[39;00m \u001b[38;5;28;01mfor\u001b[39;00m last_chat_response \u001b[38;5;129;01min\u001b[39;00m response:\n\u001b[32m     56\u001b[39m     tool_calls = \u001b[38;5;28mself\u001b[39m.llm.get_tool_calls_from_response(  \u001b[38;5;66;03m# type: ignore\u001b[39;00m\n\u001b[32m     57\u001b[39m         last_chat_response, error_on_no_tool_call=\u001b[38;5;28;01mFalse\u001b[39;00m\n\u001b[32m     58\u001b[39m     )\n",
      "\u001b[36mFile \u001b[39m\u001b[32mc:\\Users\\msi-1\\Documents\\python\\meet-ai-scheduler\\.venv\\Lib\\site-packages\\llama_index\\core\\llms\\callbacks.py:89\u001b[39m, in \u001b[36mllm_chat_callback.<locals>.wrap.<locals>.wrapped_async_llm_chat.<locals>.wrapped_gen\u001b[39m\u001b[34m()\u001b[39m\n\u001b[32m     88\u001b[39m \u001b[38;5;28;01mtry\u001b[39;00m:\n\u001b[32m---> \u001b[39m\u001b[32m89\u001b[39m     \u001b[38;5;28;01masync\u001b[39;00m \u001b[38;5;28;01mfor\u001b[39;00m x \u001b[38;5;129;01min\u001b[39;00m f_return_val:\n\u001b[32m     90\u001b[39m         dispatcher.event(\n\u001b[32m     91\u001b[39m             LLMChatInProgressEvent(\n\u001b[32m     92\u001b[39m                 messages=messages,\n\u001b[32m   (...)\u001b[39m\u001b[32m     95\u001b[39m             )\n\u001b[32m     96\u001b[39m         )\n",
      "\u001b[36mFile \u001b[39m\u001b[32mc:\\Users\\msi-1\\Documents\\python\\meet-ai-scheduler\\.venv\\Lib\\site-packages\\llama_index\\llms\\google_genai\\base.py:360\u001b[39m, in \u001b[36mGoogleGenAI._astream_chat.<locals>.gen\u001b[39m\u001b[34m()\u001b[39m\n\u001b[32m    359\u001b[39m existing_tool_calls = []\n\u001b[32m--> \u001b[39m\u001b[32m360\u001b[39m \u001b[38;5;28;01masync\u001b[39;00m \u001b[38;5;28;01mfor\u001b[39;00m r \u001b[38;5;129;01min\u001b[39;00m \u001b[38;5;28;01mawait\u001b[39;00m chat.send_message_stream(next_msg.parts):\n\u001b[32m    361\u001b[39m     \u001b[38;5;28;01mif\u001b[39;00m candidates := r.candidates:\n",
      "\u001b[36mFile \u001b[39m\u001b[32mc:\\Users\\msi-1\\Documents\\python\\meet-ai-scheduler\\.venv\\Lib\\site-packages\\google\\genai\\chats.py:474\u001b[39m, in \u001b[36mAsyncChat.send_message_stream.<locals>.async_generator\u001b[39m\u001b[34m()\u001b[39m\n\u001b[32m    473\u001b[39m chunk = \u001b[38;5;28;01mNone\u001b[39;00m\n\u001b[32m--> \u001b[39m\u001b[32m474\u001b[39m \u001b[38;5;28;01masync\u001b[39;00m \u001b[38;5;28;01mfor\u001b[39;00m chunk \u001b[38;5;129;01min\u001b[39;00m \u001b[38;5;28;01mawait\u001b[39;00m \u001b[38;5;28mself\u001b[39m._modules.generate_content_stream(  \u001b[38;5;66;03m# type: ignore[attr-defined]\u001b[39;00m\n\u001b[32m    475\u001b[39m     model=\u001b[38;5;28mself\u001b[39m._model,\n\u001b[32m    476\u001b[39m     contents=\u001b[38;5;28mself\u001b[39m._curated_history + [input_content],  \u001b[38;5;66;03m# type: ignore[arg-type]\u001b[39;00m\n\u001b[32m    477\u001b[39m     config=config \u001b[38;5;28;01mif\u001b[39;00m config \u001b[38;5;28;01melse\u001b[39;00m \u001b[38;5;28mself\u001b[39m._config,\n\u001b[32m    478\u001b[39m ):\n\u001b[32m    479\u001b[39m   \u001b[38;5;28;01mif\u001b[39;00m \u001b[38;5;129;01mnot\u001b[39;00m _validate_response(chunk):\n",
      "\u001b[36mFile \u001b[39m\u001b[32mc:\\Users\\msi-1\\Documents\\python\\meet-ai-scheduler\\.venv\\Lib\\site-packages\\google\\genai\\models.py:7548\u001b[39m, in \u001b[36mAsyncModels.generate_content_stream\u001b[39m\u001b[34m(self, model, contents, config)\u001b[39m\n\u001b[32m   7547\u001b[39m \u001b[38;5;28;01mif\u001b[39;00m _extra_utils.should_disable_afc(parsed_config):\n\u001b[32m-> \u001b[39m\u001b[32m7548\u001b[39m   response = \u001b[38;5;28;01mawait\u001b[39;00m \u001b[38;5;28mself\u001b[39m._generate_content_stream(\n\u001b[32m   7549\u001b[39m       model=model, contents=contents, config=parsed_config\n\u001b[32m   7550\u001b[39m   )\n\u001b[32m   7552\u001b[39m   \u001b[38;5;28;01masync\u001b[39;00m \u001b[38;5;28;01mdef\u001b[39;00m\u001b[38;5;250m \u001b[39m\u001b[34mbase_async_generator\u001b[39m(model, contents, config):  \u001b[38;5;66;03m# type: ignore[no-untyped-def]\u001b[39;00m\n",
      "\u001b[36mFile \u001b[39m\u001b[32mc:\\Users\\msi-1\\Documents\\python\\meet-ai-scheduler\\.venv\\Lib\\site-packages\\google\\genai\\models.py:6476\u001b[39m, in \u001b[36mAsyncModels._generate_content_stream\u001b[39m\u001b[34m(self, model, contents, config)\u001b[39m\n\u001b[32m   6471\u001b[39m   \u001b[38;5;28;01mraise\u001b[39;00m \u001b[38;5;167;01mValueError\u001b[39;00m(\n\u001b[32m   6472\u001b[39m       \u001b[33m'\u001b[39m\u001b[33mAccessing the raw HTTP response is not supported in streaming\u001b[39m\u001b[33m'\u001b[39m\n\u001b[32m   6473\u001b[39m       \u001b[33m'\u001b[39m\u001b[33m methods.\u001b[39m\u001b[33m'\u001b[39m\n\u001b[32m   6474\u001b[39m   )\n\u001b[32m-> \u001b[39m\u001b[32m6476\u001b[39m response_stream = \u001b[38;5;28;01mawait\u001b[39;00m \u001b[38;5;28mself\u001b[39m._api_client.async_request_streamed(\n\u001b[32m   6477\u001b[39m     \u001b[33m'\u001b[39m\u001b[33mpost\u001b[39m\u001b[33m'\u001b[39m, path, request_dict, http_options\n\u001b[32m   6478\u001b[39m )\n\u001b[32m   6480\u001b[39m \u001b[38;5;28;01masync\u001b[39;00m \u001b[38;5;28;01mdef\u001b[39;00m\u001b[38;5;250m \u001b[39m\u001b[34masync_generator\u001b[39m():  \u001b[38;5;66;03m# type: ignore[no-untyped-def]\u001b[39;00m\n",
      "\u001b[36mFile \u001b[39m\u001b[32mc:\\Users\\msi-1\\Documents\\python\\meet-ai-scheduler\\.venv\\Lib\\site-packages\\google\\genai\\_api_client.py:1126\u001b[39m, in \u001b[36mBaseApiClient.async_request_streamed\u001b[39m\u001b[34m(self, http_method, path, request_dict, http_options)\u001b[39m\n\u001b[32m   1122\u001b[39m http_request = \u001b[38;5;28mself\u001b[39m._build_request(\n\u001b[32m   1123\u001b[39m     http_method, path, request_dict, http_options\n\u001b[32m   1124\u001b[39m )\n\u001b[32m-> \u001b[39m\u001b[32m1126\u001b[39m response = \u001b[38;5;28;01mawait\u001b[39;00m \u001b[38;5;28mself\u001b[39m._async_request(http_request=http_request, stream=\u001b[38;5;28;01mTrue\u001b[39;00m)\n\u001b[32m   1128\u001b[39m \u001b[38;5;28;01masync\u001b[39;00m \u001b[38;5;28;01mdef\u001b[39;00m\u001b[38;5;250m \u001b[39m\u001b[34masync_generator\u001b[39m():  \u001b[38;5;66;03m# type: ignore[no-untyped-def]\u001b[39;00m\n",
      "\u001b[36mFile \u001b[39m\u001b[32mc:\\Users\\msi-1\\Documents\\python\\meet-ai-scheduler\\.venv\\Lib\\site-packages\\google\\genai\\_api_client.py:1056\u001b[39m, in \u001b[36mBaseApiClient._async_request\u001b[39m\u001b[34m(self, http_request, stream)\u001b[39m\n\u001b[32m   1051\u001b[39m \u001b[38;5;28;01masync\u001b[39;00m \u001b[38;5;28;01mdef\u001b[39;00m\u001b[38;5;250m \u001b[39m\u001b[34m_async_request\u001b[39m(\n\u001b[32m   1052\u001b[39m     \u001b[38;5;28mself\u001b[39m,\n\u001b[32m   1053\u001b[39m     http_request: HttpRequest,\n\u001b[32m   1054\u001b[39m     stream: \u001b[38;5;28mbool\u001b[39m = \u001b[38;5;28;01mFalse\u001b[39;00m,\n\u001b[32m   1055\u001b[39m ) -> HttpResponse:\n\u001b[32m-> \u001b[39m\u001b[32m1056\u001b[39m   \u001b[38;5;28;01mreturn\u001b[39;00m \u001b[38;5;28;01mawait\u001b[39;00m \u001b[38;5;28mself\u001b[39m._async_retry(  \u001b[38;5;66;03m# type: ignore[no-any-return]\u001b[39;00m\n\u001b[32m   1057\u001b[39m       \u001b[38;5;28mself\u001b[39m._async_request_once, http_request, stream\n\u001b[32m   1058\u001b[39m   )\n",
      "\u001b[36mFile \u001b[39m\u001b[32mc:\\Users\\msi-1\\Documents\\python\\meet-ai-scheduler\\.venv\\Lib\\site-packages\\tenacity\\asyncio\\__init__.py:111\u001b[39m, in \u001b[36mAsyncRetrying.__call__\u001b[39m\u001b[34m(self, fn, *args, **kwargs)\u001b[39m\n\u001b[32m    110\u001b[39m \u001b[38;5;28;01mwhile\u001b[39;00m \u001b[38;5;28;01mTrue\u001b[39;00m:\n\u001b[32m--> \u001b[39m\u001b[32m111\u001b[39m     do = \u001b[38;5;28;01mawait\u001b[39;00m \u001b[38;5;28mself\u001b[39m.iter(retry_state=retry_state)\n\u001b[32m    112\u001b[39m     \u001b[38;5;28;01mif\u001b[39;00m \u001b[38;5;28misinstance\u001b[39m(do, DoAttempt):\n",
      "\u001b[36mFile \u001b[39m\u001b[32mc:\\Users\\msi-1\\Documents\\python\\meet-ai-scheduler\\.venv\\Lib\\site-packages\\tenacity\\asyncio\\__init__.py:153\u001b[39m, in \u001b[36mAsyncRetrying.iter\u001b[39m\u001b[34m(self, retry_state)\u001b[39m\n\u001b[32m    152\u001b[39m \u001b[38;5;28;01mfor\u001b[39;00m action \u001b[38;5;129;01min\u001b[39;00m \u001b[38;5;28mself\u001b[39m.iter_state.actions:\n\u001b[32m--> \u001b[39m\u001b[32m153\u001b[39m     result = \u001b[38;5;28;01mawait\u001b[39;00m action(retry_state)\n\u001b[32m    154\u001b[39m \u001b[38;5;28;01mreturn\u001b[39;00m result\n",
      "\u001b[36mFile \u001b[39m\u001b[32mc:\\Users\\msi-1\\Documents\\python\\meet-ai-scheduler\\.venv\\Lib\\site-packages\\tenacity\\_utils.py:99\u001b[39m, in \u001b[36mwrap_to_async_func.<locals>.inner\u001b[39m\u001b[34m(*args, **kwargs)\u001b[39m\n\u001b[32m     98\u001b[39m \u001b[38;5;28;01masync\u001b[39;00m \u001b[38;5;28;01mdef\u001b[39;00m\u001b[38;5;250m \u001b[39m\u001b[34minner\u001b[39m(*args: typing.Any, **kwargs: typing.Any) -> typing.Any:\n\u001b[32m---> \u001b[39m\u001b[32m99\u001b[39m     \u001b[38;5;28;01mreturn\u001b[39;00m \u001b[43mcall\u001b[49m\u001b[43m(\u001b[49m\u001b[43m*\u001b[49m\u001b[43margs\u001b[49m\u001b[43m,\u001b[49m\u001b[43m \u001b[49m\u001b[43m*\u001b[49m\u001b[43m*\u001b[49m\u001b[43mkwargs\u001b[49m\u001b[43m)\u001b[49m\n",
      "\u001b[36mFile \u001b[39m\u001b[32mc:\\Users\\msi-1\\Documents\\python\\meet-ai-scheduler\\.venv\\Lib\\site-packages\\tenacity\\__init__.py:418\u001b[39m, in \u001b[36mBaseRetrying._post_stop_check_actions.<locals>.exc_check\u001b[39m\u001b[34m(rs)\u001b[39m\n\u001b[32m    417\u001b[39m \u001b[38;5;28;01mif\u001b[39;00m \u001b[38;5;28mself\u001b[39m.reraise:\n\u001b[32m--> \u001b[39m\u001b[32m418\u001b[39m     \u001b[38;5;28;01mraise\u001b[39;00m \u001b[43mretry_exc\u001b[49m\u001b[43m.\u001b[49m\u001b[43mreraise\u001b[49m\u001b[43m(\u001b[49m\u001b[43m)\u001b[49m\n\u001b[32m    419\u001b[39m \u001b[38;5;28;01mraise\u001b[39;00m retry_exc \u001b[38;5;28;01mfrom\u001b[39;00m\u001b[38;5;250m \u001b[39m\u001b[34;01mfut\u001b[39;00m\u001b[34;01m.\u001b[39;00m\u001b[34;01mexception\u001b[39;00m()\n",
      "\u001b[36mFile \u001b[39m\u001b[32mc:\\Users\\msi-1\\Documents\\python\\meet-ai-scheduler\\.venv\\Lib\\site-packages\\tenacity\\__init__.py:185\u001b[39m, in \u001b[36mRetryError.reraise\u001b[39m\u001b[34m(self)\u001b[39m\n\u001b[32m    184\u001b[39m \u001b[38;5;28;01mif\u001b[39;00m \u001b[38;5;28mself\u001b[39m.last_attempt.failed:\n\u001b[32m--> \u001b[39m\u001b[32m185\u001b[39m     \u001b[38;5;28;01mraise\u001b[39;00m \u001b[38;5;28;43mself\u001b[39;49m\u001b[43m.\u001b[49m\u001b[43mlast_attempt\u001b[49m\u001b[43m.\u001b[49m\u001b[43mresult\u001b[49m\u001b[43m(\u001b[49m\u001b[43m)\u001b[49m\n\u001b[32m    186\u001b[39m \u001b[38;5;28;01mraise\u001b[39;00m \u001b[38;5;28mself\u001b[39m\n",
      "\u001b[36mFile \u001b[39m\u001b[32m~\\AppData\\Roaming\\uv\\python\\cpython-3.11.11-windows-x86_64-none\\Lib\\concurrent\\futures\\_base.py:449\u001b[39m, in \u001b[36mFuture.result\u001b[39m\u001b[34m(self, timeout)\u001b[39m\n\u001b[32m    448\u001b[39m \u001b[38;5;28;01melif\u001b[39;00m \u001b[38;5;28mself\u001b[39m._state == FINISHED:\n\u001b[32m--> \u001b[39m\u001b[32m449\u001b[39m     \u001b[38;5;28;01mreturn\u001b[39;00m \u001b[38;5;28;43mself\u001b[39;49m\u001b[43m.\u001b[49m\u001b[43m__get_result\u001b[49m\u001b[43m(\u001b[49m\u001b[43m)\u001b[49m\n\u001b[32m    451\u001b[39m \u001b[38;5;28mself\u001b[39m._condition.wait(timeout)\n",
      "\u001b[36mFile \u001b[39m\u001b[32m~\\AppData\\Roaming\\uv\\python\\cpython-3.11.11-windows-x86_64-none\\Lib\\concurrent\\futures\\_base.py:401\u001b[39m, in \u001b[36mFuture.__get_result\u001b[39m\u001b[34m(self)\u001b[39m\n\u001b[32m    400\u001b[39m \u001b[38;5;28;01mtry\u001b[39;00m:\n\u001b[32m--> \u001b[39m\u001b[32m401\u001b[39m     \u001b[38;5;28;01mraise\u001b[39;00m \u001b[38;5;28mself\u001b[39m._exception\n\u001b[32m    402\u001b[39m \u001b[38;5;28;01mfinally\u001b[39;00m:\n\u001b[32m    403\u001b[39m     \u001b[38;5;66;03m# Break a reference cycle with the exception in self._exception\u001b[39;00m\n",
      "\u001b[36mFile \u001b[39m\u001b[32mc:\\Users\\msi-1\\Documents\\python\\meet-ai-scheduler\\.venv\\Lib\\site-packages\\tenacity\\asyncio\\__init__.py:114\u001b[39m, in \u001b[36mAsyncRetrying.__call__\u001b[39m\u001b[34m(self, fn, *args, **kwargs)\u001b[39m\n\u001b[32m    113\u001b[39m \u001b[38;5;28;01mtry\u001b[39;00m:\n\u001b[32m--> \u001b[39m\u001b[32m114\u001b[39m     result = \u001b[38;5;28;01mawait\u001b[39;00m fn(*args, **kwargs)\n\u001b[32m    115\u001b[39m \u001b[38;5;28;01mexcept\u001b[39;00m \u001b[38;5;167;01mBaseException\u001b[39;00m:  \u001b[38;5;66;03m# noqa: B902\u001b[39;00m\n",
      "\u001b[36mFile \u001b[39m\u001b[32mc:\\Users\\msi-1\\Documents\\python\\meet-ai-scheduler\\.venv\\Lib\\site-packages\\google\\genai\\_api_client.py:1006\u001b[39m, in \u001b[36mBaseApiClient._async_request_once\u001b[39m\u001b[34m(self, http_request, stream)\u001b[39m\n\u001b[32m    997\u001b[39m response = \u001b[38;5;28;01mawait\u001b[39;00m session.request(\n\u001b[32m    998\u001b[39m     method=http_request.method,\n\u001b[32m    999\u001b[39m     url=http_request.url,\n\u001b[32m   (...)\u001b[39m\u001b[32m   1003\u001b[39m     **\u001b[38;5;28mself\u001b[39m._async_client_session_request_args,\n\u001b[32m   1004\u001b[39m )\n\u001b[32m-> \u001b[39m\u001b[32m1006\u001b[39m \u001b[38;5;28;01mawait\u001b[39;00m errors.APIError.raise_for_async_response(response)\n\u001b[32m   1007\u001b[39m \u001b[38;5;28;01mreturn\u001b[39;00m HttpResponse(response.headers, response, session=session)\n",
      "\u001b[36mFile \u001b[39m\u001b[32mc:\\Users\\msi-1\\Documents\\python\\meet-ai-scheduler\\.venv\\Lib\\site-packages\\google\\genai\\errors.py:156\u001b[39m, in \u001b[36mAPIError.raise_for_async_response\u001b[39m\u001b[34m(cls, response)\u001b[39m\n\u001b[32m    155\u001b[39m \u001b[38;5;28;01mif\u001b[39;00m \u001b[32m400\u001b[39m <= status_code < \u001b[32m500\u001b[39m:\n\u001b[32m--> \u001b[39m\u001b[32m156\u001b[39m   \u001b[38;5;28;01mraise\u001b[39;00m ClientError(status_code, response_json, response)\n\u001b[32m    157\u001b[39m \u001b[38;5;28;01melif\u001b[39;00m \u001b[32m500\u001b[39m <= status_code < \u001b[32m600\u001b[39m:\n",
      "\u001b[31mClientError\u001b[39m: 400 Bad Request. {'message': '{\\n  \"error\": {\\n    \"code\": 400,\\n    \"message\": \"* GenerateContentRequest.tools[0].function_declarations[0].parameters.properties[start_date].any_of[1].format: only \\'enum\\' and \\'date-time\\' are supported for STRING type\\\\n\",\\n    \"status\": \"INVALID_ARGUMENT\"\\n  }\\n}\\n', 'status': 'Bad Request'}",
      "\nThe above exception was the direct cause of the following exception:\n",
      "\u001b[31mWorkflowRuntimeError\u001b[39m                      Traceback (most recent call last)",
      "\u001b[36mCell\u001b[39m\u001b[36m \u001b[39m\u001b[32mIn[12]\u001b[39m\u001b[32m, line 1\u001b[39m\n\u001b[32m----> \u001b[39m\u001b[32m1\u001b[39m response = \u001b[38;5;28;01mawait\u001b[39;00m agent.run(user_msg=\u001b[33m\"\u001b[39m\u001b[33mCreate a calendar event called \u001b[39m\u001b[33m'\u001b[39m\u001b[33mDoctor Appointment\u001b[39m\u001b[33m'\u001b[39m\u001b[33m at 5 PM tomorrow\u001b[39m\u001b[33m\"\u001b[39m)\n\u001b[32m      2\u001b[39m \u001b[38;5;28mprint\u001b[39m(response)\n",
      "\u001b[36mFile \u001b[39m\u001b[32mc:\\Users\\msi-1\\Documents\\python\\meet-ai-scheduler\\.venv\\Lib\\site-packages\\workflows\\workflow.py:416\u001b[39m, in \u001b[36mWorkflow.run.<locals>._run_workflow\u001b[39m\u001b[34m()\u001b[39m\n\u001b[32m    412\u001b[39m \u001b[38;5;28;01mif\u001b[39;00m exception_raised:\n\u001b[32m    413\u001b[39m     \u001b[38;5;66;03m# cancel the stream\u001b[39;00m\n\u001b[32m    414\u001b[39m     ctx.write_event_to_stream(StopEvent())\n\u001b[32m--> \u001b[39m\u001b[32m416\u001b[39m     \u001b[38;5;28;01mraise\u001b[39;00m exception_raised\n\u001b[32m    418\u001b[39m \u001b[38;5;28;01mif\u001b[39;00m \u001b[38;5;129;01mnot\u001b[39;00m we_done:\n\u001b[32m    419\u001b[39m     \u001b[38;5;66;03m# cancel the stream\u001b[39;00m\n\u001b[32m    420\u001b[39m     ctx.write_event_to_stream(StopEvent())\n",
      "\u001b[36mFile \u001b[39m\u001b[32mc:\\Users\\msi-1\\Documents\\python\\meet-ai-scheduler\\.venv\\Lib\\site-packages\\workflows\\context\\context.py:696\u001b[39m, in \u001b[36mContext._step_worker\u001b[39m\u001b[34m(self, name, step, config, stepwise, verbose, checkpoint_callback, run_id, service_manager, resource_manager)\u001b[39m\n\u001b[32m    694\u001b[39m \u001b[38;5;28;01mexcept\u001b[39;00m \u001b[38;5;167;01mException\u001b[39;00m \u001b[38;5;28;01mas\u001b[39;00m e:\n\u001b[32m    695\u001b[39m     \u001b[38;5;28;01mif\u001b[39;00m config.retry_policy \u001b[38;5;129;01mis\u001b[39;00m \u001b[38;5;28;01mNone\u001b[39;00m:\n\u001b[32m--> \u001b[39m\u001b[32m696\u001b[39m         \u001b[38;5;28;01mraise\u001b[39;00m WorkflowRuntimeError(\n\u001b[32m    697\u001b[39m             \u001b[33mf\u001b[39m\u001b[33m\"\u001b[39m\u001b[33mError in step \u001b[39m\u001b[33m'\u001b[39m\u001b[38;5;132;01m{\u001b[39;00mname\u001b[38;5;132;01m}\u001b[39;00m\u001b[33m'\u001b[39m\u001b[33m: \u001b[39m\u001b[38;5;132;01m{\u001b[39;00me\u001b[38;5;132;01m!s}\u001b[39;00m\u001b[33m\"\u001b[39m\n\u001b[32m    698\u001b[39m         ) \u001b[38;5;28;01mfrom\u001b[39;00m\u001b[38;5;250m \u001b[39m\u001b[34;01me\u001b[39;00m\n\u001b[32m    700\u001b[39m     delay = config.retry_policy.next(\n\u001b[32m    701\u001b[39m         retry_start_at + time.time(), attempts, e\n\u001b[32m    702\u001b[39m     )\n\u001b[32m    703\u001b[39m     \u001b[38;5;28;01mif\u001b[39;00m delay \u001b[38;5;129;01mis\u001b[39;00m \u001b[38;5;28;01mNone\u001b[39;00m:\n\u001b[32m    704\u001b[39m         \u001b[38;5;66;03m# We're done retrying\u001b[39;00m\n",
      "\u001b[31mWorkflowRuntimeError\u001b[39m: Error in step 'run_agent_step': 400 Bad Request. {'message': '{\\n  \"error\": {\\n    \"code\": 400,\\n    \"message\": \"* GenerateContentRequest.tools[0].function_declarations[0].parameters.properties[start_date].any_of[1].format: only \\'enum\\' and \\'date-time\\' are supported for STRING type\\\\n\",\\n    \"status\": \"INVALID_ARGUMENT\"\\n  }\\n}\\n', 'status': 'Bad Request'}"
     ]
    }
   ],
   "source": [
    "response = await agent.run(user_msg=\"Create a calendar event called 'Doctor Appointment' at 5 PM tomorrow\")\n",
    "print(response)"
   ]
  },
  {
   "cell_type": "code",
   "execution_count": null,
   "id": "b9dd6742",
   "metadata": {},
   "outputs": [],
   "source": []
  }
 ],
 "metadata": {
  "kernelspec": {
   "display_name": "meet-ai-scheduler",
   "language": "python",
   "name": "python3"
  },
  "language_info": {
   "codemirror_mode": {
    "name": "ipython",
    "version": 3
   },
   "file_extension": ".py",
   "mimetype": "text/x-python",
   "name": "python",
   "nbconvert_exporter": "python",
   "pygments_lexer": "ipython3",
   "version": "3.11.11"
  }
 },
 "nbformat": 4,
 "nbformat_minor": 5
}
